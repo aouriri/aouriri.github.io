{
 "cells": [
  {
   "cell_type": "markdown",
   "metadata": {},
   "source": [
    "# PDF Mining Basics"
   ]
  },
  {
   "cell_type": "markdown",
   "metadata": {},
   "source": [
    "This document serves as a guide to introductory PDF mining, as well as an attempt to compile methods and/or code from other sources that have been useful in understanding this method of text extraction.\n",
    "\n",
    "This interactive tutorial:\n",
    "* **compares** PyPDF2 and pdfminer.six, two libraries useful in PDF mining\n",
    "* **provides** examples of the functionality of the two libraries\n",
    "* **provides** some resources for using PyPDF2 and pdfminer.six, as well as resources for getting started with PDF mining in R and setting up an environment to work in\n",
    "\n",
    "We'll begin with using [PyPDF2](https://pythonhosted.org/PyPDF2/About%20PyPDF2.html)."
   ]
  },
  {
   "cell_type": "markdown",
   "metadata": {},
   "source": [
    "## Using PyPDF2\n",
    "\n",
    "To begin using PyPDF2, we must first import it."
   ]
  },
  {
   "cell_type": "code",
   "execution_count": null,
   "metadata": {
    "code_folding": []
   },
   "outputs": [],
   "source": [
    "# importing required modules \n",
    "import PyPDF2 \n",
    "\n",
    "# DON'T FORGET TO RUN THE YOUR CELLS!!"
   ]
  },
  {
   "cell_type": "markdown",
   "metadata": {},
   "source": [
    "Next, we have to tell PyPDF2 what file to use. Whether you are using a Jupyter Notebook or using the Command Prompt/Terminal locally, **be sure that your file(s) are with your Notebook file or that you are working in the same directory as your file(s) by ```cd``` or changing the directory**.\n",
    "\n",
    "The file used for the examples below can be found [here](https://libraries.ucsd.edu/farmworkermovement/essays/essays/CESAR%20CHAVEZ%20COMMONWEALTH%20SPEECH.pdf) (link to PDF file titled Cesar Chavez, “Commonwealth Club Address 1984”). Locally, I have renamed the file to remove the spaces, **\"CESARCHAVEZCOMMONWEALTHSPEECH.pdf,\"** as it seems to work better when running commands."
   ]
  },
  {
   "cell_type": "code",
   "execution_count": null,
   "metadata": {},
   "outputs": [],
   "source": [
    "# creating a pdf file object \n",
    "pdfFileObj = open('CESARCHAVEZCOMMONWEALTHSPEECH.pdf', 'rb')\n",
    "\n",
    "# FYI, 'rb' means to open the file in a 'read-only' binary format"
   ]
  },
  {
   "cell_type": "markdown",
   "metadata": {},
   "source": [
    "It then, must be told to read the selected file."
   ]
  },
  {
   "cell_type": "code",
   "execution_count": null,
   "metadata": {},
   "outputs": [],
   "source": [
    "# creating a pdf reader object \n",
    "pdfReader = PyPDF2.PdfFileReader(pdfFileObj)"
   ]
  },
  {
   "cell_type": "markdown",
   "metadata": {},
   "source": [
    "We can now, for example, find out the number of pages in this PDF file."
   ]
  },
  {
   "cell_type": "code",
   "execution_count": null,
   "metadata": {},
   "outputs": [],
   "source": [
    "# printing number of pages in pdf file \n",
    "print(pdfReader.numPages)"
   ]
  },
  {
   "cell_type": "markdown",
   "metadata": {},
   "source": [
    "To actually extract text from the PDF, a PageObject is created and the function getPage(), which takes the page number (starting from index 0) is appended."
   ]
  },
  {
   "cell_type": "code",
   "execution_count": null,
   "metadata": {},
   "outputs": [],
   "source": [
    "# creating a page object \n",
    "pageObj = pdfReader.getPage(0) # be sure to change the number to the appropriate page number for extraction."
   ]
  },
  {
   "cell_type": "markdown",
   "metadata": {},
   "source": [
    "Now, we can extract the page text."
   ]
  },
  {
   "cell_type": "code",
   "execution_count": null,
   "metadata": {
    "code_folding": []
   },
   "outputs": [],
   "source": [
    "# extracting text from page \n",
    "print(pageObj.extractText())"
   ]
  },
  {
   "cell_type": "markdown",
   "metadata": {},
   "source": [
    "As you can from running the example, the commands worked as they were supposed to. Unfortunately, the output is not very useful without proper spacing. This is a known issue in PyPDF2 and workarounds have been created but did not work in this case. Using PyPDF4 (```pip install PyPDF4```; code lines work the same way as in 2, just change 2 to 4.) provided the same result. \n",
    "\n",
    "That is not to say that PyPDF2/PyPDF4 is not useful...just not for this document. In addition to extracting the text of a PDF, PyPDF can also extract document information, rotate pages, merge/split pages, add watermarks, and encrypt the document."
   ]
  },
  {
   "cell_type": "markdown",
   "metadata": {},
   "source": [
    "To try another document, be sure to close the current open document."
   ]
  },
  {
   "cell_type": "code",
   "execution_count": null,
   "metadata": {},
   "outputs": [],
   "source": [
    "pdfFileObj.close()"
   ]
  },
  {
   "cell_type": "markdown",
   "metadata": {},
   "source": [
    "Interestingly, a PyPDF2 tutorial creator managed to find a PDF that PyPDF2 could better: a [W-9 form](https://www.irs.gov/pub/irs-pdf/fw9.pdf). The output is much cleaner than the previous example, but still a bit hard to decipher without the form fields in place."
   ]
  },
  {
   "cell_type": "code",
   "execution_count": null,
   "metadata": {},
   "outputs": [],
   "source": [
    "import PyPDF2 \n",
    "\n",
    "pdfFileObj = open('fw9.pdf', 'rb') \n",
    "\n",
    "pdfReader = PyPDF2.PdfFileReader(pdfFileObj) \n",
    "\n",
    "pageObj = pdfReader.getPage(0) \n",
    "\n",
    "print(pageObj.extractText()) "
   ]
  },
  {
   "cell_type": "markdown",
   "metadata": {},
   "source": [
    "# BONUS: Using PyPDF2 with a PDF URL\n",
    "\n",
    "The process of using a PDF URL instead of a local PDF file is similar with the exception of having to ensure that the PDF file used is in the same place as your notebook file. Instead of 'open', there is a 'request'. Below, is an example of mining the entire PDF from our earlier example."
   ]
  },
  {
   "cell_type": "code",
   "execution_count": null,
   "metadata": {},
   "outputs": [],
   "source": [
    "import urllib.request # be sure to check if this is installed\n",
    "import PyPDF2\n",
    "import io\n",
    "\n",
    "URL = 'https://libraries.ucsd.edu/farmworkermovement/essays/essays/CESAR%20CHAVEZ%20COMMONWEALTH%20SPEECH.pdf' #feel free to change URL\n",
    "req = urllib.request.Request(URL, headers={'User-Agent' : \"Mozilla/5.0 (Windows NT 10.0; Win64; x64) AppleWebKit/537.36 (KHTML, like Gecko) Chrome/96.0.4664.45 Safari/537.36\"})\n",
    "remote_file = urllib.request.urlopen(req).read()\n",
    "remote_file_bytes = io.BytesIO(remote_file)\n",
    "pdfdoc_remote = PyPDF2.PdfFileReader(remote_file_bytes)\n",
    "\n",
    "for i in range(pdfdoc_remote.numPages):\n",
    "    current_page = pdfdoc_remote.getPage(i)\n",
    "    print(\"===================\")\n",
    "    print(\"Content on page:\" + str(i + 1))\n",
    "    print(\"===================\")\n",
    "    print(current_page.extractText())"
   ]
  },
  {
   "cell_type": "markdown",
   "metadata": {},
   "source": [
    "The second part of the code ```for i in range(pdfdoc_remote.numPages):```, provides formatting for the extracted text. If you simply just want to print the extracted text, you can remove everything between ```current page``` and ```print(current_page.extractText())```. Of course, if you ran the above example, you'll know how well (not really) this will turn out."
   ]
  },
  {
   "cell_type": "code",
   "execution_count": null,
   "metadata": {
    "scrolled": true
   },
   "outputs": [],
   "source": [
    "for i in range(pdfdoc_remote.numPages):\n",
    "    current_page = pdfdoc_remote.getPage(i)\n",
    "    print(current_page.extractText())"
   ]
  },
  {
   "cell_type": "markdown",
   "metadata": {},
   "source": [
    "## pdfminer.six"
   ]
  },
  {
   "cell_type": "markdown",
   "metadata": {},
   "source": [
    "Another popular PDF mining tool for Python is pdfminer.six, which is a fork from the original pdfminer repo. pdfminer.six can do much of what PyPDF2 can do. The bonus is that it can also extract images (see later example)."
   ]
  },
  {
   "cell_type": "markdown",
   "metadata": {},
   "source": [
    "To begin, we must (of course) import pdfminer."
   ]
  },
  {
   "cell_type": "code",
   "execution_count": null,
   "metadata": {},
   "outputs": [],
   "source": [
    "import pdfminer"
   ]
  },
  {
   "cell_type": "markdown",
   "metadata": {},
   "source": [
    "Then, the extract text function must be imported."
   ]
  },
  {
   "cell_type": "code",
   "execution_count": null,
   "metadata": {},
   "outputs": [],
   "source": [
    "import pdfminer.high_level\n",
    "from pdfminer.high_level import extract_text"
   ]
  },
  {
   "cell_type": "markdown",
   "metadata": {},
   "source": [
    "Next, the PDF file is defined."
   ]
  },
  {
   "cell_type": "code",
   "execution_count": null,
   "metadata": {},
   "outputs": [],
   "source": [
    "text = extract_text(\"CESARCHAVEZCOMMONWEALTHSPEECH.pdf\")"
   ]
  },
  {
   "cell_type": "markdown",
   "metadata": {},
   "source": [
    "And finally, the output of the extracted text is printed."
   ]
  },
  {
   "cell_type": "code",
   "execution_count": null,
   "metadata": {},
   "outputs": [],
   "source": [
    "print(text)"
   ]
  },
  {
   "cell_type": "markdown",
   "metadata": {},
   "source": [
    "After running ```print```, it is clear that pdfminer.six does a better job in this case of extracting the text."
   ]
  },
  {
   "cell_type": "markdown",
   "metadata": {},
   "source": [
    "# BONUS: Using pdfminer.six with a PDF URL\n",
    "\n",
    "Similar to the code for PyPDF, urllib and io are used to request the necessary PDF."
   ]
  },
  {
   "cell_type": "code",
   "execution_count": null,
   "metadata": {},
   "outputs": [],
   "source": [
    "import urllib.request # be sure to check if this is installed\n",
    "import pdfminer\n",
    "import io # be sure to check if this is installed\n",
    "from pdfminer.high_level import extract_text\n",
    "\n",
    "URL = 'https://libraries.ucsd.edu/farmworkermovement/essays/essays/CESAR%20CHAVEZ%20COMMONWEALTH%20SPEECH.pdf' #feel free to change URL\n",
    "req = urllib.request.Request(URL, headers={'User-Agent' : \"Mozilla/5.0 (Windows NT 10.0; Win64; x64) AppleWebKit/537.36 (KHTML, like Gecko) Chrome/96.0.4664.45 Safari/537.36\"})\n",
    "remote_file = urllib.request.urlopen(req).read()\n",
    "remote_file_bytes = io.BytesIO(remote_file)\n",
    "text = extract_text(remote_file_bytes)\n",
    "\n",
    "print(text)"
   ]
  },
  {
   "cell_type": "markdown",
   "metadata": {},
   "source": [
    "Again, pdfminer.six does a better job formatting the extracted text.\n",
    "\n",
    "Now, let's move on to extracting images."
   ]
  },
  {
   "cell_type": "markdown",
   "metadata": {},
   "source": [
    "The process for extracting images is slightly more involved than the text extraction process. pdfminer.six provides steps to do this:\n",
    "\n",
    "```curl https://www.robots.ox.ac.uk/~vgg/publications/2012/parkhi12a/parkhi12a.pdf --output example.pdf``` \n",
    "\n",
    "```pdf2txt.py example.pdf --output-dir cats-and-dogs```\n",
    "\n",
    "**Please note:** ```pdf2txt.py``` is included in the pdfminer.six package. Unfortunately, it may not be saved in the same directory that you are working in. To remedy any errors, I suggest making a copy of the file and placing it in the directory you plan to work in.\n",
    "\n",
    "These commands only work in the command line. If you have been following along in Jupyter Notebook, Google Colab, etc., you *won't* need to open up the Command Prompt/Terminal to follow this process. By simply prefacing the command with ```!``` (exclamation mark) on the line, it will run the command as it would on this command line. Alternatively, as it pertains to this process, you can install pycurl ```pip install pycurl``` to request a URL in Python.\n",
    "\n",
    "Here is an example of using pycurl to request and download an example PDF:\n",
    "\n",
    "```Python\n",
    "import pycurl\n",
    "\n",
    "file_name = 'example.pdf'\n",
    "file_src = 'https://www.robots.ox.ac.uk/~vgg/publications/2012/parkhi12a/parkhi12a.pdf --output example.pdf'\n",
    "\n",
    "with open(file_name, 'wb') as f:\n",
    "    cl = pycurl.Curl()\n",
    "    cl.setopt(cl.URL, file_src)\n",
    "    cl.setopt(cl.WRITEDATA, f)\n",
    "    cl.perform()\n",
    "    cl.close()\n",
    "```"
   ]
  },
  {
   "cell_type": "markdown",
   "metadata": {},
   "source": [
    "Below, the command to extract images from the \"Commonwealth Speech\" PDF file will be entered and run as a command."
   ]
  },
  {
   "cell_type": "code",
   "execution_count": null,
   "metadata": {
    "code_folding": [],
    "scrolled": true
   },
   "outputs": [],
   "source": [
    "# The --output-dir argument creates the directory (folder) where the image(s) will ultimately go. Be sure to name the directory something that makes sense.\n",
    "! pdf2txt.py CESARCHAVEZCOMMONWEALTHSPEECH.pdf --output-dir fw-images"
   ]
  },
  {
   "attachments": {
    "corruptedimage.JPG": {
     "image/jpeg": "[encoded data removed]"
    }
   },
   "cell_type": "markdown",
   "metadata": {},
   "source": [
    "If the command ran without errors, you should see the folder \"fw-images\" in your working directory. Within that folder, the sole image (located on the first page) should be there as a .BMP or bitmap image file. Success! 🎉 Unfortunately, if you tried opening the image, you may have received an error. I received, **\"Sorry, [Windows] Photos can't open this file because the format is currently unsupported, or the file is corrupted\"**.\n",
    "\n",
    "After entering the file in an online BMP image viewer, I saw the problem:\n",
    "\n",
    "![corruptedimage.JPG](attachment:corruptedimage.JPG)\n",
    "\n",
    "That is definitely **NOT** how the image should look. This could be due to a number of things, including any conversion issues, whether from the PDF or pdfminer.six extracting the image. Let's try another [example](https://www.learningcontainer.com/wp-content/uploads/2019/09/sample-pdf-with-images.pdf). Interestingly, the \"cats-and-dogs\" example provided by pdfminer.six works as expected on the command line, but a particular character (\\uFB01, to be exact) trips up reading/extraction in Jupyter Notebook."
   ]
  },
  {
   "cell_type": "code",
   "execution_count": null,
   "metadata": {
    "code_folding": []
   },
   "outputs": [],
   "source": [
    "# retrieves and downloads a copy of the PDF\n",
    "! curl https://www.learningcontainer.com/wp-content/uploads/2019/09/sample-pdf-with-images.pdf --output example.pdf"
   ]
  },
  {
   "cell_type": "code",
   "execution_count": null,
   "metadata": {
    "code_folding": []
   },
   "outputs": [],
   "source": [
    "# extracts image(s) from PDF and creates/outputs to maps-satellites folder\n",
    "! pdf2txt.py example.pdf --output-dir maps-satellites"
   ]
  },
  {
   "cell_type": "markdown",
   "metadata": {},
   "source": [
    "If all goes as planned, there should be both a PDF document named \"example.PDF\", and a folder named \"maps-satellites\" with four *non-corrupted* images."
   ]
  },
  {
   "cell_type": "markdown",
   "metadata": {},
   "source": [
    "## A Quick Word About Environments\n",
    "\n",
    "With any kind of project, it is good practice to keep its components together, and that is very much true for your PDF mining project. Here are some resources for setting up an environment for both Python and R. Once you have your environment created, you can place any downloaded PDFs in a folder within the environment folder.\n",
    "\n",
    "### Python\n",
    "* [How To Install and Set Up a Local Programming Environment for Python 3](https://www.digitalocean.com/community/tutorial_series/how-to-install-and-set-up-a-local-programming-environment-for-python-3)\n",
    "\n",
    "### R\n",
    "* [renv (Overview)](https://rstudio.github.io/renv/)\n",
    "* [Introduction to renv](https://rstudio.github.io/renv/articles/renv.html)\n"
   ]
  },
  {
   "cell_type": "markdown",
   "metadata": {},
   "source": [
    "## Resources\n",
    "\n",
    "The following resources were used to as an entry to PDF mining. Included are links for tutorials on PDF mining using both Python and R. The tutorials for Python have been tested and used and will be employed as examples in this guide. The R tutorials have not been actively tested, but are included as reference. **Please Note:** the libraries/packages here are just *a few* that are available for PDF text extraction. These libraries/packages are more commonly used/referenced/popular.\n",
    "\n",
    "### Python\n",
    "* PyPDF2 ```pip install PyPDF2```\n",
    "* [PyPDF2 Documentation](https://pythonhosted.org/PyPDF2/)\n",
    "* [An Intro to PyPDF2](https://www.blog.pythonlibrary.org/2018/06/07/an-intro-to-pypdf2/)\n",
    "* [Extract text from PDF File using Python](https://www.geeksforgeeks.org/extract-text-from-pdf-file-using-python/)\n",
    "* [Excerpt of \"Working with PDF and Word Documents\" from the book *Automate the Boring Stuff with Python*](https://automatetheboringstuff.com/2e/chapter15/)\n",
    "* [How to Work With a PDF in Python](https://realpython.com/pdf-python/)\n",
    "* [How to Extract Keywords from PDFs and Arrange in Order of their Weights Using Python](https://towardsdatascience.com/how-to-extract-keywords-from-pdfs-and-arrange-in-order-of-their-weights-using-python-841556083341)\n",
    "\n",
    "\n",
    "* pdfminer.six (maintained fork of pdfminer) ```pip install pdfminer.six```\n",
    "* [pdfminer.six Documentation](https://pdfminersix.readthedocs.io/en/latest/)\n",
    "* [How to Read PDF Files Using Python (using pdfminer.six)](http://theautomatic.net/2020/01/21/how-to-read-pdf-files-with-python/)\n",
    "\n",
    "### R\n",
    "* Main library (depending on the project/output, other libraries/dependencies will need to be installed) \n",
    "```R\n",
    "library(pdftools)\n",
    "```\n",
    "* [Extracting Data from a PDF into R](https://rstudio-pubs-static.s3.amazonaws.com/415060_553527fd13ed4f30aae0f1e4483aa970.html)\n",
    "* [Mining Data From PDF Files with R](https://rpubs.com/SavvyAnalytics/pdfdemo)\n",
    "* [Reading PDF Files into R for Text Mining](https://data.library.virginia.edu/reading-pdf-files-into-r-for-text-mining/)\n",
    "* [How to Extract and Clean Data From PDF Files in R](https://www.charlesbordet.com/en/extract-pdf/#)"
   ]
  },
  {
   "cell_type": "markdown",
   "metadata": {},
   "source": [
    "## Conclusion\n",
    "\n",
    "Hopefully, this notebook will serve as a suitable entry to PDF mining. To learn more about the all features of PyPDF2 and pdfminer.six, please refer to the documentation provided under the 'Resources' section of this notebook.\n",
    "\n",
    "Please reach out to me if there are any issues with running the notebook, have any questions (I'm no expert, but I have no problem with providing assistance in working out issues), and/or know of any other libraries/packages in Python or R that are useful for PDF mining: **Ateanna Uriri** • [ateanna.uriri[at]utrgv.edu](mailto:ateanna.uriri@utrgv.edu) • [aouriri](https://github.com/aouriri) on GitHub"
   ]
  },
  {
   "cell_type": "code",
   "execution_count": null,
   "metadata": {},
   "outputs": [],
   "source": []
  }
 ],
 "metadata": {
  "kernelspec": {
   "display_name": "Python 3",
   "language": "python",
   "name": "python3"
  },
  "language_info": {
   "codemirror_mode": {
    "name": "ipython",
    "version": 3
   },
   "file_extension": ".py",
   "mimetype": "text/x-python",
   "name": "python",
   "nbconvert_exporter": "python",
   "pygments_lexer": "ipython3",
   "version": "3.7.6"
  },
  "pdfmining": {
   "IMLS_statement": "Institute of Museum and Library Services (IMLS), LB21 LEADING project: RE-246450-OLS-20",
   "affiliation": "University of Texas at Rio Grande Valley, University Library, Edinburg, Texas",
   "author": "Ateanna Uriri",
   "title": "PDF Mining Guide"
  }
 },
 "nbformat": 4,
 "nbformat_minor": 4
}
