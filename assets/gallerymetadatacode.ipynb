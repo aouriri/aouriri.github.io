{
 "cells": [
  {
   "cell_type": "code",
   "execution_count": null,
   "id": "4736040b",
   "metadata": {},
   "outputs": [],
   "source": [
    "import pandas as pd\n",
    "import numpy as np\n",
    "import matplotlib.pyplot as plt\n",
    "%matplotlib inline\n",
    "from urllib.request import urlopen\n",
    "from bs4 import BeautifulSoup\n",
    "import requests"
   ]
  },
  {
   "cell_type": "code",
   "execution_count": null,
   "id": "abb2060a",
   "metadata": {},
   "outputs": [],
   "source": [
    "# requesting site content + print response\n",
    "\n",
    "from requests import get\n",
    "url = 'https://libraries.ucsd.edu/farmworkermovement/gallery/thumbnails.php?album=519&page=1'\n",
    "response = get(url)\n",
    "print(response.text[:500])"
   ]
  },
  {
   "cell_type": "code",
   "execution_count": null,
   "id": "89dcd9a0",
   "metadata": {},
   "outputs": [],
   "source": [
    "html_soup = BeautifulSoup(response.text, 'html.parser')\n",
    "type(html_soup)"
   ]
  },
  {
   "cell_type": "code",
   "execution_count": null,
   "id": "ce85ece7",
   "metadata": {},
   "outputs": [],
   "source": [
    "# find + print photo info containers\n",
    "\n",
    "photo_containers = html_soup.find_all('td', class_ = 'thumbnails')\n",
    "print(type(photo_containers))\n",
    "print(len(photo_containers))"
   ]
  },
  {
   "cell_type": "code",
   "execution_count": null,
   "id": "1bfe4e16",
   "metadata": {
    "scrolled": true
   },
   "outputs": [],
   "source": [
    "# get info from first photo\n",
    "\n",
    "first_photo = photo_containers[0]\n",
    "first_photo"
   ]
  },
  {
   "cell_type": "code",
   "execution_count": null,
   "id": "a86f1d5a",
   "metadata": {
    "scrolled": false
   },
   "outputs": [],
   "source": [
    "# returns img number\n",
    "\n",
    "first_number = first_photo.find('span', class_='thumb_title')\n",
    "first_number"
   ]
  },
  {
   "cell_type": "code",
   "execution_count": null,
   "id": "185abb53",
   "metadata": {},
   "outputs": [],
   "source": [
    "# returns img info\n",
    "\n",
    "first_photo.img"
   ]
  },
  {
   "cell_type": "code",
   "execution_count": null,
   "id": "27cbccf4",
   "metadata": {},
   "outputs": [],
   "source": [
    "# returns img title info\n",
    "\n",
    "fimage_metadata = first_photo.find('img', class_= 'image')['title']\n",
    "fimage_metadata"
   ]
  },
  {
   "cell_type": "code",
   "execution_count": null,
   "id": "7f130847",
   "metadata": {},
   "outputs": [],
   "source": [
    "metadata_info_clean = fimage_metadata.replace(\"\\r\\n\",\",\").split(\",\")\n",
    "metadata_info_clean"
   ]
  },
  {
   "cell_type": "code",
   "execution_count": null,
   "id": "91761d82",
   "metadata": {},
   "outputs": [],
   "source": [
    "# returns caption info w/ tag\n",
    "\n",
    "first_caption = first_photo.find('span', class_='thumb_caption')\n",
    "first_caption"
   ]
  },
  {
   "cell_type": "code",
   "execution_count": null,
   "id": "1288a39b",
   "metadata": {},
   "outputs": [],
   "source": [
    "# returns caption info w/o tag\n",
    "\n",
    "first_caption.text"
   ]
  },
  {
   "cell_type": "code",
   "execution_count": 47,
   "id": "2ae9bda6",
   "metadata": {},
   "outputs": [
    {
     "name": "stdout",
     "output_type": "stream",
     "text": [
      "Done!\n"
     ]
    }
   ],
   "source": [
    "# full working code\n",
    "# be sure to install openpyxl to export as excel file\n",
    "\n",
    "from bs4 import BeautifulSoup\n",
    "import pandas as pd\n",
    "import requests\n",
    "import re\n",
    "\n",
    "headers = {'User-Agent': 'Mozilla/5.0 (Windows NT 10.0; Win64; x64) AppleWebKit/537.36 (KHTML, like Gecko) Chrome/93.0.4577.82 Safari/537.36'}\n",
    "\n",
    "photoinfo = [ ]\n",
    "\n",
    "def getMetadata(page):\n",
    "    url = f'https://libraries.ucsd.edu/farmworkermovement/gallery/thumbnails.php?album=546&page={page}' # change out album number\n",
    "    r = requests.get(url, headers=headers)\n",
    "    soup = BeautifulSoup(r.text, 'html.parser')\n",
    "    photo = soup.find_all('td', {'class': 'thumbnails'})\n",
    "    \n",
    "    for container in photo:\n",
    "        metadata = {\n",
    "        # for photo number\n",
    "        # NOTE: some galleries include \"Photo Title\" instead of \"Photo Number\"; class is same\n",
    "        'Photo Number': container.find('span', {'class': 'thumb_title'}),\n",
    "        # for photo info\n",
    "        'Photo Metadata': [img['title'] for img in container.find_all('img', class_='image')],        \n",
    "        # for photo caption\n",
    "        'Photo Caption': container.find('span', {'class': 'thumb_caption'}),\n",
    "        }\n",
    "        photoinfo.append(metadata)\n",
    "\n",
    "for x in range(1,50): # adjust range to number of pages available in each gallery OR set large enough number to capture all pages (takes longer to process)\n",
    "    getMetadata(x)\n",
    "\n",
    "df = pd.DataFrame(photoinfo)\n",
    "df.to_excel('honorstrike.xlsx') # update file name\n",
    "print('Done!') "
   ]
  },
  {
   "cell_type": "markdown",
   "id": "cd6ba09d",
   "metadata": {},
   "source": [
    "Excel file is saved in the same location as notebook. Some additional cleaning must be done in Excel file.\n",
    "\n",
    "**To remove ```<span>``` tag (Photo Number & Photo Caption columns):** select column > Find & Replace (CTRL/CMD + H) > in 'Find' field, enter ```<*>```, leave 'Replace' field blank > click 'Replace All'\n",
    "\n",
    "**To remove ```\\r\\n``` & separate with comma (Photo Metadata column):** select column > Find & Replace (CTRL/CMD + H) > in 'Find' field, enter ```\\r\\n```, in 'Replace' field, enter ```, ``` (add space after comma) > click 'Replace All'"
   ]
  },
  {
   "cell_type": "code",
   "execution_count": null,
   "id": "70f99e4d",
   "metadata": {},
   "outputs": [],
   "source": []
  }
 ],
 "metadata": {
  "galleryscraping": {
   "IMLS_statement": "Institute of Museum and Library Services (IMLS), LB21 LEADING project: RE-246450-OLS-20",
   "affiliation": "University of Texas at Rio Grande Valley, University Library, Edinburg, Texas",
   "author": "Ateanna Uriri",
   "title": "FWM Gallery Scraping Code"
  },
  "kernelspec": {
   "display_name": "Python 3",
   "language": "python",
   "name": "python3"
  },
  "language_info": {
   "codemirror_mode": {
    "name": "ipython",
    "version": 3
   },
   "file_extension": ".py",
   "mimetype": "text/x-python",
   "name": "python",
   "nbconvert_exporter": "python",
   "pygments_lexer": "ipython3",
   "version": "3.7.6"
  }
 },
 "nbformat": 4,
 "nbformat_minor": 5
}
